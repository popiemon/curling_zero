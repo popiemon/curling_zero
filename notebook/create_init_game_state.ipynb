{
 "cells": [
  {
   "cell_type": "code",
   "execution_count": 4,
   "metadata": {},
   "outputs": [],
   "source": [
    "import pickle"
   ]
  },
  {
   "cell_type": "code",
   "execution_count": 5,
   "metadata": {},
   "outputs": [],
   "source": [
    "init_game_state = {'end': 0, 'extra_end_score': {'team0': None, 'team1': None}, 'game_result': None, 'hammer': 'team1', 'scores': {'team0': [None, None, None, None, None, None, None, None, None, None], 'team1': [None, None, None, None, None, None, None, None, None, None]}, 'shot': 0, 'stones': {'team0': [None, None, None, None, None, None, None, None], 'team1': [None, None, None, None, None, None, None, None]}, 'thinking_time_remaining': {'team0': 9999999, 'team1': 9999999}}"
   ]
  },
  {
   "cell_type": "code",
   "execution_count": 6,
   "metadata": {},
   "outputs": [
    {
     "data": {
      "text/plain": [
       "{'end': 0,\n",
       " 'extra_end_score': {'team0': None, 'team1': None},\n",
       " 'game_result': None,\n",
       " 'hammer': 'team1',\n",
       " 'scores': {'team0': [None,\n",
       "   None,\n",
       "   None,\n",
       "   None,\n",
       "   None,\n",
       "   None,\n",
       "   None,\n",
       "   None,\n",
       "   None,\n",
       "   None],\n",
       "  'team1': [None, None, None, None, None, None, None, None, None, None]},\n",
       " 'shot': 0,\n",
       " 'stones': {'team0': [None, None, None, None, None, None, None, None],\n",
       "  'team1': [None, None, None, None, None, None, None, None]},\n",
       " 'thinking_time_remaining': {'team0': 9999999, 'team1': 9999999}}"
      ]
     },
     "execution_count": 6,
     "metadata": {},
     "output_type": "execute_result"
    }
   ],
   "source": [
    "init_game_state"
   ]
  },
  {
   "cell_type": "code",
   "execution_count": null,
   "metadata": {},
   "outputs": [],
   "source": [
    "with open('/dc3/gamedata/init_game_state.pkl', mode='wb') as f:\n",
    "    pickle.dump(init_game_state, f)"
   ]
  }
 ],
 "metadata": {
  "kernelspec": {
   "display_name": "Python 3",
   "language": "python",
   "name": "python3"
  },
  "language_info": {
   "codemirror_mode": {
    "name": "ipython",
    "version": 3
   },
   "file_extension": ".py",
   "mimetype": "text/x-python",
   "name": "python",
   "nbconvert_exporter": "python",
   "pygments_lexer": "ipython3",
   "version": "3.10.12"
  }
 },
 "nbformat": 4,
 "nbformat_minor": 2
}
